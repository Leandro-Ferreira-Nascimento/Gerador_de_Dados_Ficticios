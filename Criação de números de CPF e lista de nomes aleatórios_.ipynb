{
 "cells": [
  {
   "cell_type": "code",
   "execution_count": 1,
   "id": "4c3287bf",
   "metadata": {},
   "outputs": [
    {
     "name": "stdout",
     "output_type": "stream",
     "text": [
      "Quantos nomes e CPFs você deseja gerar? 10\n",
      "Pessoas geradas: \n",
      "Nome: William, CPF: 876.688.263-53\n",
      "Nome: Tamires, CPF: 666.443.238-96\n",
      "Nome: Roberta, CPF: 508.490.224-88\n",
      "Nome: Márcia, CPF: 550.209.927-72\n",
      "Nome: Roberta, CPF: 763.134.484-83\n",
      "Nome: Sarah, CPF: 817.707.788-66\n",
      "Nome: Wagner, CPF: 267.667.099-32\n",
      "Nome: Rodrigo, CPF: 845.565.410-93\n",
      "Nome: César, CPF: 479.669.032-57\n",
      "Nome: Priscila, CPF: 611.774.079-86\n"
     ]
    }
   ],
   "source": [
    "import random\n",
    "\n",
    "# Lista com os 100 primeiros nomes\n",
    "primeiros_nomes = [\"Amanda\", \"Ana\", \"André\", \"Antônio\", \"Arthur\", \"Bianca\", \"Bruna\", \"Bruno\", \"Caio\", \"Camila\", \n",
    "                   \"Carla\", \"Carlos\", \"Carolina\", \"Cecília\", \"César\", \"Christian\", \"Cristina\", \"Daniel\", \"Daniela\", \n",
    "                   \"Ivan\", \"Jacqueline\", \"Janaína\", \"Jéssica\", \"Joana\", \"João\", \"Jorge\", \"José\", \"Juliana\", \"Júlio\", \n",
    "                   \"Karina\", \"Karen\", \"Karine\", \"Kelly\", \"Laís\", \"Leandro\", \"Leonardo\", \"Letícia\", \"Lívia\", \"Lorena\", \n",
    "                   \"Lucas\", \"Luciana\", \"Luciano\", \"Luís\", \"Luísa\", \"Luiz\", \"Luzia\", \"Márcia\", \"Marco\", \"Mariana\", \n",
    "                   \"Marina\", \"Mário\", \"Marisa\", \"Mateus\", \"Maurício\", \"Mayara\", \"Michele\", \"Mirella\", \"Natalia\", \n",
    "                   \"Nathalia\", \"Nathalie\", \"Nathaly\", \"Natália\", \"Nicole\", \"Olívia\", \"Pablo\", \"Patrícia\", \"Paula\", \n",
    "                   \"Paulo\", \"Pedro\", \"Priscila\", \"Rafael\", \"Raquel\", \"Renata\", \"Renato\", \"Ricardo\", \"Roberta\", \n",
    "                   \"Rodrigo\", \"Rogério\", \"Sabrina\", \"Samuel\", \"Sandra\", \"Sara\", \"Sarah\", \"Silvana\", \"Silvia\", \n",
    "                   \"Stefanie\", \"Suzana\", \"Talita\", \"Tamires\", \"Tatiana\", \"Thaís\", \"Thiago\", \"Vanessa\", \"Vera\", \n",
    "                   \"Victor\", \"Vinícius\", \"Vitória\", \"Wagner\", \"William\"]\n",
    "\n",
    "# Função para gerar um CPF aleatório formatado\n",
    "def gerar_cpf():\n",
    "    cpf = [random.randint(0, 9) for _ in range(9)]\n",
    "    cpf.append(random.randint(0, 9))\n",
    "    cpf.append(random.randint(0, 9))\n",
    "    return f\"{cpf[0]}{cpf[1]}{cpf[2]}.{cpf[3]}{cpf[4]}{cpf[5]}.{cpf[6]}{cpf[7]}{cpf[8]}-{cpf[9]}{cpf[10]}\"\n",
    "\n",
    "# Pergunta ao usuário a quantidade de nomes a serem gerados\n",
    "qtd_nomes = int(input(\"Quantos nomes e CPFs você deseja gerar? \"))\n",
    "\n",
    "# Lista com os nomes e CPFs gerados aleatoriamente\n",
    "pessoas = []\n",
    "\n",
    "# Gera nomes e CPFs aleatórios e adiciona na lista\n",
    "for _ in range(qtd_nomes):\n",
    "    # Escolhe aleatoriamente um primeiro nome\n",
    "    primeiro_nome = random.choice(primeiros_nomes)\n",
    "    \n",
    "    # Gera um CPF formatado\n",
    "    cpf = gerar_cpf()\n",
    "    \n",
    "    # Adiciona o nome e o CPF na lista\n",
    "    pessoas.append([primeiro_nome, cpf])\n",
    "\n",
    "# Exibe a lista de pessoas geradas\n",
    "print(\"Pessoas geradas: \")\n",
    "for pessoa in pessoas:\n",
    "    print(f\"Nome: {pessoa[0]}, CPF: {pessoa[1]}\")\n"
   ]
  },
  {
   "cell_type": "code",
   "execution_count": null,
   "id": "af0678fc",
   "metadata": {},
   "outputs": [],
   "source": []
  }
 ],
 "metadata": {
  "kernelspec": {
   "display_name": "Python 3 (ipykernel)",
   "language": "python",
   "name": "python3"
  },
  "language_info": {
   "codemirror_mode": {
    "name": "ipython",
    "version": 3
   },
   "file_extension": ".py",
   "mimetype": "text/x-python",
   "name": "python",
   "nbconvert_exporter": "python",
   "pygments_lexer": "ipython3",
   "version": "3.9.12"
  }
 },
 "nbformat": 4,
 "nbformat_minor": 5
}
